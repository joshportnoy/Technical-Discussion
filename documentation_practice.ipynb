{
  "cells": [
    {
      "cell_type": "markdown",
      "metadata": {
        "id": "view-in-github",
        "colab_type": "text"
      },
      "source": [
        "<a href=\"https://colab.research.google.com/github/joshportnoy/Technical-Discussion/blob/main/documentation_practice.ipynb\" target=\"_parent\"><img src=\"https://colab.research.google.com/assets/colab-badge.svg\" alt=\"Open In Colab\"/></a>"
      ]
    },
    {
      "cell_type": "markdown",
      "id": "646eabbf",
      "metadata": {
        "id": "646eabbf"
      },
      "source": [
        "# Technical Documentation Practice"
      ]
    },
    {
      "cell_type": "code",
      "execution_count": null,
      "id": "8ade83d9",
      "metadata": {
        "id": "8ade83d9"
      },
      "outputs": [],
      "source": [
        "print(\"Hello World\")"
      ]
    },
    {
      "cell_type": "markdown",
      "id": "8e24dca0",
      "metadata": {
        "id": "8e24dca0"
      },
      "source": [
        "## Wow a subsection!"
      ]
    },
    {
      "cell_type": "markdown",
      "id": "7671ca6e",
      "metadata": {
        "id": "7671ca6e"
      },
      "source": [
        "### and an even smaller subheading here!\n",
        "\n",
        "with extra plain text where I can __bold__, *italicize*, and ~~strikethrough~~"
      ]
    },
    {
      "cell_type": "markdown",
      "id": "45471000",
      "metadata": {
        "id": "45471000"
      },
      "source": [
        "Lets add a picture now:\n",
        "\n",
        "![05_UpsideDownHouses__TheWorldUpsideDown_5.-Trassenheide_Die_Welt_steht_Kopf.jpg](attachment:05_UpsideDownHouses__TheWorldUpsideDown_5.-Trassenheide_Die_Welt_steht_Kopf.jpg)"
      ]
    }
  ],
  "metadata": {
    "kernelspec": {
      "display_name": "Python 3 (ipykernel)",
      "language": "python",
      "name": "python3"
    },
    "language_info": {
      "codemirror_mode": {
        "name": "ipython",
        "version": 3
      },
      "file_extension": ".py",
      "mimetype": "text/x-python",
      "name": "python",
      "nbconvert_exporter": "python",
      "pygments_lexer": "ipython3",
      "version": "3.9.7"
    },
    "colab": {
      "name": "documentation practice.ipynb",
      "provenance": [],
      "include_colab_link": true
    }
  },
  "nbformat": 4,
  "nbformat_minor": 5
}